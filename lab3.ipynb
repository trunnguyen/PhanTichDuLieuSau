{
  "nbformat": 4,
  "nbformat_minor": 0,
  "metadata": {
    "colab": {
      "provenance": []
    },
    "kernelspec": {
      "name": "python3",
      "display_name": "Python 3"
    },
    "language_info": {
      "name": "python"
    }
  },
  "cells": [
    {
      "cell_type": "code",
      "source": [
        "import pandas as pd\n",
        "import numpy as np\n",
        "import re"
      ],
      "metadata": {
        "id": "IFAW8-o9fG2-"
      },
      "execution_count": 1,
      "outputs": []
    },
    {
      "cell_type": "markdown",
      "source": [
        "3. Vấn đề 1: Tiến hành tải dữ liệu vào chương trình ứng dụng Python và giải quyết vấn đề\n",
        "“Missing header in the csv file”"
      ],
      "metadata": {
        "id": "Bk1Sj8Eqdl6R"
      }
    },
    {
      "cell_type": "code",
      "execution_count": 13,
      "metadata": {
        "colab": {
          "base_uri": "https://localhost:8080/",
          "height": 206
        },
        "id": "u9xsGlDlY8qe",
        "outputId": "2659e408-cb90-45ec-b457-bcf5a5667ae1"
      },
      "outputs": [
        {
          "output_type": "execute_result",
          "data": {
            "text/plain": [
              "    Id            Name   Age      Weight m0006 m0612 m1218 f0006 f0612 f1218\n",
              "0  1.0    Mickéy Mousé  56.0       70kgs    72    69    71     -     -     -\n",
              "1  2.0     Donald Duck  34.0   154.89lbs     -     -     -    85    84    76\n",
              "2  3.0      Mini Mouse  16.0         NaN     -     -     -    65    69    72\n",
              "3  4.0  Scrooge McDuck   NaN       78kgs    78    79    72     -     -     -\n",
              "4  5.0    Pink Panther  54.0  198.658lbs     -     -     -    69   NaN    75"
            ],
            "text/html": [
              "\n",
              "  <div id=\"df-a48e4d76-8aa9-4f49-a78a-4302d5fcf4dc\" class=\"colab-df-container\">\n",
              "    <div>\n",
              "<style scoped>\n",
              "    .dataframe tbody tr th:only-of-type {\n",
              "        vertical-align: middle;\n",
              "    }\n",
              "\n",
              "    .dataframe tbody tr th {\n",
              "        vertical-align: top;\n",
              "    }\n",
              "\n",
              "    .dataframe thead th {\n",
              "        text-align: right;\n",
              "    }\n",
              "</style>\n",
              "<table border=\"1\" class=\"dataframe\">\n",
              "  <thead>\n",
              "    <tr style=\"text-align: right;\">\n",
              "      <th></th>\n",
              "      <th>Id</th>\n",
              "      <th>Name</th>\n",
              "      <th>Age</th>\n",
              "      <th>Weight</th>\n",
              "      <th>m0006</th>\n",
              "      <th>m0612</th>\n",
              "      <th>m1218</th>\n",
              "      <th>f0006</th>\n",
              "      <th>f0612</th>\n",
              "      <th>f1218</th>\n",
              "    </tr>\n",
              "  </thead>\n",
              "  <tbody>\n",
              "    <tr>\n",
              "      <th>0</th>\n",
              "      <td>1.0</td>\n",
              "      <td>Mickéy Mousé</td>\n",
              "      <td>56.0</td>\n",
              "      <td>70kgs</td>\n",
              "      <td>72</td>\n",
              "      <td>69</td>\n",
              "      <td>71</td>\n",
              "      <td>-</td>\n",
              "      <td>-</td>\n",
              "      <td>-</td>\n",
              "    </tr>\n",
              "    <tr>\n",
              "      <th>1</th>\n",
              "      <td>2.0</td>\n",
              "      <td>Donald Duck</td>\n",
              "      <td>34.0</td>\n",
              "      <td>154.89lbs</td>\n",
              "      <td>-</td>\n",
              "      <td>-</td>\n",
              "      <td>-</td>\n",
              "      <td>85</td>\n",
              "      <td>84</td>\n",
              "      <td>76</td>\n",
              "    </tr>\n",
              "    <tr>\n",
              "      <th>2</th>\n",
              "      <td>3.0</td>\n",
              "      <td>Mini Mouse</td>\n",
              "      <td>16.0</td>\n",
              "      <td>NaN</td>\n",
              "      <td>-</td>\n",
              "      <td>-</td>\n",
              "      <td>-</td>\n",
              "      <td>65</td>\n",
              "      <td>69</td>\n",
              "      <td>72</td>\n",
              "    </tr>\n",
              "    <tr>\n",
              "      <th>3</th>\n",
              "      <td>4.0</td>\n",
              "      <td>Scrooge McDuck</td>\n",
              "      <td>NaN</td>\n",
              "      <td>78kgs</td>\n",
              "      <td>78</td>\n",
              "      <td>79</td>\n",
              "      <td>72</td>\n",
              "      <td>-</td>\n",
              "      <td>-</td>\n",
              "      <td>-</td>\n",
              "    </tr>\n",
              "    <tr>\n",
              "      <th>4</th>\n",
              "      <td>5.0</td>\n",
              "      <td>Pink Panther</td>\n",
              "      <td>54.0</td>\n",
              "      <td>198.658lbs</td>\n",
              "      <td>-</td>\n",
              "      <td>-</td>\n",
              "      <td>-</td>\n",
              "      <td>69</td>\n",
              "      <td>NaN</td>\n",
              "      <td>75</td>\n",
              "    </tr>\n",
              "  </tbody>\n",
              "</table>\n",
              "</div>\n",
              "    <div class=\"colab-df-buttons\">\n",
              "\n",
              "  <div class=\"colab-df-container\">\n",
              "    <button class=\"colab-df-convert\" onclick=\"convertToInteractive('df-a48e4d76-8aa9-4f49-a78a-4302d5fcf4dc')\"\n",
              "            title=\"Convert this dataframe to an interactive table.\"\n",
              "            style=\"display:none;\">\n",
              "\n",
              "  <svg xmlns=\"http://www.w3.org/2000/svg\" height=\"24px\" viewBox=\"0 -960 960 960\">\n",
              "    <path d=\"M120-120v-720h720v720H120Zm60-500h600v-160H180v160Zm220 220h160v-160H400v160Zm0 220h160v-160H400v160ZM180-400h160v-160H180v160Zm440 0h160v-160H620v160ZM180-180h160v-160H180v160Zm440 0h160v-160H620v160Z\"/>\n",
              "  </svg>\n",
              "    </button>\n",
              "\n",
              "  <style>\n",
              "    .colab-df-container {\n",
              "      display:flex;\n",
              "      gap: 12px;\n",
              "    }\n",
              "\n",
              "    .colab-df-convert {\n",
              "      background-color: #E8F0FE;\n",
              "      border: none;\n",
              "      border-radius: 50%;\n",
              "      cursor: pointer;\n",
              "      display: none;\n",
              "      fill: #1967D2;\n",
              "      height: 32px;\n",
              "      padding: 0 0 0 0;\n",
              "      width: 32px;\n",
              "    }\n",
              "\n",
              "    .colab-df-convert:hover {\n",
              "      background-color: #E2EBFA;\n",
              "      box-shadow: 0px 1px 2px rgba(60, 64, 67, 0.3), 0px 1px 3px 1px rgba(60, 64, 67, 0.15);\n",
              "      fill: #174EA6;\n",
              "    }\n",
              "\n",
              "    .colab-df-buttons div {\n",
              "      margin-bottom: 4px;\n",
              "    }\n",
              "\n",
              "    [theme=dark] .colab-df-convert {\n",
              "      background-color: #3B4455;\n",
              "      fill: #D2E3FC;\n",
              "    }\n",
              "\n",
              "    [theme=dark] .colab-df-convert:hover {\n",
              "      background-color: #434B5C;\n",
              "      box-shadow: 0px 1px 3px 1px rgba(0, 0, 0, 0.15);\n",
              "      filter: drop-shadow(0px 1px 2px rgba(0, 0, 0, 0.3));\n",
              "      fill: #FFFFFF;\n",
              "    }\n",
              "  </style>\n",
              "\n",
              "    <script>\n",
              "      const buttonEl =\n",
              "        document.querySelector('#df-a48e4d76-8aa9-4f49-a78a-4302d5fcf4dc button.colab-df-convert');\n",
              "      buttonEl.style.display =\n",
              "        google.colab.kernel.accessAllowed ? 'block' : 'none';\n",
              "\n",
              "      async function convertToInteractive(key) {\n",
              "        const element = document.querySelector('#df-a48e4d76-8aa9-4f49-a78a-4302d5fcf4dc');\n",
              "        const dataTable =\n",
              "          await google.colab.kernel.invokeFunction('convertToInteractive',\n",
              "                                                    [key], {});\n",
              "        if (!dataTable) return;\n",
              "\n",
              "        const docLinkHtml = 'Like what you see? Visit the ' +\n",
              "          '<a target=\"_blank\" href=https://colab.research.google.com/notebooks/data_table.ipynb>data table notebook</a>'\n",
              "          + ' to learn more about interactive tables.';\n",
              "        element.innerHTML = '';\n",
              "        dataTable['output_type'] = 'display_data';\n",
              "        await google.colab.output.renderOutput(dataTable, element);\n",
              "        const docLink = document.createElement('div');\n",
              "        docLink.innerHTML = docLinkHtml;\n",
              "        element.appendChild(docLink);\n",
              "      }\n",
              "    </script>\n",
              "  </div>\n",
              "\n",
              "\n",
              "<div id=\"df-ee80d80c-86ab-4e9c-a87b-ea62268e41df\">\n",
              "  <button class=\"colab-df-quickchart\" onclick=\"quickchart('df-ee80d80c-86ab-4e9c-a87b-ea62268e41df')\"\n",
              "            title=\"Suggest charts\"\n",
              "            style=\"display:none;\">\n",
              "\n",
              "<svg xmlns=\"http://www.w3.org/2000/svg\" height=\"24px\"viewBox=\"0 0 24 24\"\n",
              "     width=\"24px\">\n",
              "    <g>\n",
              "        <path d=\"M19 3H5c-1.1 0-2 .9-2 2v14c0 1.1.9 2 2 2h14c1.1 0 2-.9 2-2V5c0-1.1-.9-2-2-2zM9 17H7v-7h2v7zm4 0h-2V7h2v10zm4 0h-2v-4h2v4z\"/>\n",
              "    </g>\n",
              "</svg>\n",
              "  </button>\n",
              "\n",
              "<style>\n",
              "  .colab-df-quickchart {\n",
              "      --bg-color: #E8F0FE;\n",
              "      --fill-color: #1967D2;\n",
              "      --hover-bg-color: #E2EBFA;\n",
              "      --hover-fill-color: #174EA6;\n",
              "      --disabled-fill-color: #AAA;\n",
              "      --disabled-bg-color: #DDD;\n",
              "  }\n",
              "\n",
              "  [theme=dark] .colab-df-quickchart {\n",
              "      --bg-color: #3B4455;\n",
              "      --fill-color: #D2E3FC;\n",
              "      --hover-bg-color: #434B5C;\n",
              "      --hover-fill-color: #FFFFFF;\n",
              "      --disabled-bg-color: #3B4455;\n",
              "      --disabled-fill-color: #666;\n",
              "  }\n",
              "\n",
              "  .colab-df-quickchart {\n",
              "    background-color: var(--bg-color);\n",
              "    border: none;\n",
              "    border-radius: 50%;\n",
              "    cursor: pointer;\n",
              "    display: none;\n",
              "    fill: var(--fill-color);\n",
              "    height: 32px;\n",
              "    padding: 0;\n",
              "    width: 32px;\n",
              "  }\n",
              "\n",
              "  .colab-df-quickchart:hover {\n",
              "    background-color: var(--hover-bg-color);\n",
              "    box-shadow: 0 1px 2px rgba(60, 64, 67, 0.3), 0 1px 3px 1px rgba(60, 64, 67, 0.15);\n",
              "    fill: var(--button-hover-fill-color);\n",
              "  }\n",
              "\n",
              "  .colab-df-quickchart-complete:disabled,\n",
              "  .colab-df-quickchart-complete:disabled:hover {\n",
              "    background-color: var(--disabled-bg-color);\n",
              "    fill: var(--disabled-fill-color);\n",
              "    box-shadow: none;\n",
              "  }\n",
              "\n",
              "  .colab-df-spinner {\n",
              "    border: 2px solid var(--fill-color);\n",
              "    border-color: transparent;\n",
              "    border-bottom-color: var(--fill-color);\n",
              "    animation:\n",
              "      spin 1s steps(1) infinite;\n",
              "  }\n",
              "\n",
              "  @keyframes spin {\n",
              "    0% {\n",
              "      border-color: transparent;\n",
              "      border-bottom-color: var(--fill-color);\n",
              "      border-left-color: var(--fill-color);\n",
              "    }\n",
              "    20% {\n",
              "      border-color: transparent;\n",
              "      border-left-color: var(--fill-color);\n",
              "      border-top-color: var(--fill-color);\n",
              "    }\n",
              "    30% {\n",
              "      border-color: transparent;\n",
              "      border-left-color: var(--fill-color);\n",
              "      border-top-color: var(--fill-color);\n",
              "      border-right-color: var(--fill-color);\n",
              "    }\n",
              "    40% {\n",
              "      border-color: transparent;\n",
              "      border-right-color: var(--fill-color);\n",
              "      border-top-color: var(--fill-color);\n",
              "    }\n",
              "    60% {\n",
              "      border-color: transparent;\n",
              "      border-right-color: var(--fill-color);\n",
              "    }\n",
              "    80% {\n",
              "      border-color: transparent;\n",
              "      border-right-color: var(--fill-color);\n",
              "      border-bottom-color: var(--fill-color);\n",
              "    }\n",
              "    90% {\n",
              "      border-color: transparent;\n",
              "      border-bottom-color: var(--fill-color);\n",
              "    }\n",
              "  }\n",
              "</style>\n",
              "\n",
              "  <script>\n",
              "    async function quickchart(key) {\n",
              "      const quickchartButtonEl =\n",
              "        document.querySelector('#' + key + ' button');\n",
              "      quickchartButtonEl.disabled = true;  // To prevent multiple clicks.\n",
              "      quickchartButtonEl.classList.add('colab-df-spinner');\n",
              "      try {\n",
              "        const charts = await google.colab.kernel.invokeFunction(\n",
              "            'suggestCharts', [key], {});\n",
              "      } catch (error) {\n",
              "        console.error('Error during call to suggestCharts:', error);\n",
              "      }\n",
              "      quickchartButtonEl.classList.remove('colab-df-spinner');\n",
              "      quickchartButtonEl.classList.add('colab-df-quickchart-complete');\n",
              "    }\n",
              "    (() => {\n",
              "      let quickchartButtonEl =\n",
              "        document.querySelector('#df-ee80d80c-86ab-4e9c-a87b-ea62268e41df button');\n",
              "      quickchartButtonEl.style.display =\n",
              "        google.colab.kernel.accessAllowed ? 'block' : 'none';\n",
              "    })();\n",
              "  </script>\n",
              "</div>\n",
              "\n",
              "    </div>\n",
              "  </div>\n"
            ],
            "application/vnd.google.colaboratory.intrinsic+json": {
              "type": "dataframe",
              "variable_name": "df",
              "summary": "{\n  \"name\": \"df\",\n  \"rows\": 18,\n  \"fields\": [\n    {\n      \"column\": \"Id\",\n      \"properties\": {\n        \"dtype\": \"number\",\n        \"std\": 4.47213595499958,\n        \"min\": 1.0,\n        \"max\": 15.0,\n        \"num_unique_values\": 15,\n        \"samples\": [\n          10.0,\n          12.0,\n          1.0\n        ],\n        \"semantic_type\": \"\",\n        \"description\": \"\"\n      }\n    },\n    {\n      \"column\": \"Name\",\n      \"properties\": {\n        \"dtype\": \"string\",\n        \"num_unique_values\": 13,\n        \"samples\": [\n          \"Tana Ricky\",\n          \"Henry Nam\",\n          \"Mick\\u00e9y Mous\\u00e9\"\n        ],\n        \"semantic_type\": \"\",\n        \"description\": \"\"\n      }\n    },\n    {\n      \"column\": \"Age\",\n      \"properties\": {\n        \"dtype\": \"number\",\n        \"std\": 16.597371095228524,\n        \"min\": 12.0,\n        \"max\": 56.0,\n        \"num_unique_values\": 8,\n        \"samples\": [\n          34.0,\n          19.0,\n          56.0\n        ],\n        \"semantic_type\": \"\",\n        \"description\": \"\"\n      }\n    },\n    {\n      \"column\": \"Weight\",\n      \"properties\": {\n        \"dtype\": \"string\",\n        \"num_unique_values\": 9,\n        \"samples\": [\n          \"60kgs\",\n          \"154.89lbs\",\n          \"56kgs\"\n        ],\n        \"semantic_type\": \"\",\n        \"description\": \"\"\n      }\n    },\n    {\n      \"column\": \"m0006\",\n      \"properties\": {\n        \"dtype\": \"category\",\n        \"num_unique_values\": 4,\n        \"samples\": [\n          \"-\",\n          \"65\",\n          \"72\"\n        ],\n        \"semantic_type\": \"\",\n        \"description\": \"\"\n      }\n    },\n    {\n      \"column\": \"m0612\",\n      \"properties\": {\n        \"dtype\": \"category\",\n        \"num_unique_values\": 6,\n        \"samples\": [\n          \"69\",\n          \"-\",\n          \"67\"\n        ],\n        \"semantic_type\": \"\",\n        \"description\": \"\"\n      }\n    },\n    {\n      \"column\": \"m1218\",\n      \"properties\": {\n        \"dtype\": \"category\",\n        \"num_unique_values\": 5,\n        \"samples\": [\n          \"-\",\n          \"55\",\n          \"72\"\n        ],\n        \"semantic_type\": \"\",\n        \"description\": \"\"\n      }\n    },\n    {\n      \"column\": \"f0006\",\n      \"properties\": {\n        \"dtype\": \"category\",\n        \"num_unique_values\": 7,\n        \"samples\": [\n          \"-\",\n          \"85\",\n          \"71\"\n        ],\n        \"semantic_type\": \"\",\n        \"description\": \"\"\n      }\n    },\n    {\n      \"column\": \"f0612\",\n      \"properties\": {\n        \"dtype\": \"category\",\n        \"num_unique_values\": 7,\n        \"samples\": [\n          \"-\",\n          \"84\",\n          \"95\"\n        ],\n        \"semantic_type\": \"\",\n        \"description\": \"\"\n      }\n    },\n    {\n      \"column\": \"f1218\",\n      \"properties\": {\n        \"dtype\": \"category\",\n        \"num_unique_values\": 6,\n        \"samples\": [\n          \"-\",\n          \"76\",\n          \"70\"\n        ],\n        \"semantic_type\": \"\",\n        \"description\": \"\"\n      }\n    }\n  ]\n}"
            }
          },
          "metadata": {},
          "execution_count": 13
        }
      ],
      "source": [
        "column_names = [\"Id\", \"Name\", \"Age\", \"Weight\", \"m0006\", \"m0612\", \"m1218\", \"f0006\", \"f0612\", \"f1218\"]\n",
        "df=pd.read_csv(\"patient_heart_rate.csv\", names=column_names)\n",
        "df.head()\n"
      ]
    },
    {
      "cell_type": "markdown",
      "source": [
        "4. Vấn đề 2: Xử lý vấn đề một cột lưu hỗn hợp nhiều dữ liệu, ở đây là cột “Name” chứa bao\n",
        "gồm “Firstname” và “Lastname”, giải pháp là ta sẽ tách ra làm 2 cột"
      ],
      "metadata": {
        "id": "UGnV6rdhdmJk"
      }
    },
    {
      "cell_type": "code",
      "source": [
        "df[['Firstname', 'Lastname']] = df['Name'].str.split(expand=True)\n",
        "df=df.drop('Name',axis=1)\n",
        "print(df)"
      ],
      "metadata": {
        "colab": {
          "base_uri": "https://localhost:8080/"
        },
        "id": "sFJqFTiIelbN",
        "outputId": "9269a5fc-de98-420f-f825-ca517ceb0435"
      },
      "execution_count": 14,
      "outputs": [
        {
          "output_type": "stream",
          "name": "stdout",
          "text": [
            "      Id   Age      Weight m0006 m0612 m1218 f0006 f0612 f1218 Firstname  \\\n",
            "0    1.0  56.0       70kgs    72    69    71     -     -     -    Mickéy   \n",
            "1    2.0  34.0   154.89lbs     -     -     -    85    84    76    Donald   \n",
            "2    3.0  16.0         NaN     -     -     -    65    69    72      Mini   \n",
            "3    4.0   NaN       78kgs    78    79    72     -     -     -   Scrooge   \n",
            "4    5.0  54.0  198.658lbs     -     -     -    69   NaN    75      Pink   \n",
            "5    6.0  52.0      189lbs     -     -     -    68    75    72      Huey   \n",
            "6    7.0  19.0       56kgs     -     -     -    71    78    75     Dewey   \n",
            "7    8.0  32.0       78kgs    78    76    75     -     -     -    Scööpy   \n",
            "8    NaN   NaN         NaN   NaN   NaN   NaN   NaN   NaN   NaN       NaN   \n",
            "9    NaN   NaN         NaN   NaN   NaN   NaN   NaN   NaN   NaN       NaN   \n",
            "10   NaN   NaN         NaN   NaN   NaN   NaN   NaN   NaN   NaN       NaN   \n",
            "11   9.0  52.0      189lbs     -     -     -    68    75    72      Huey   \n",
            "12  10.0  12.0       45kgs     -     -     -    92    95    87     Louie   \n",
            "13  11.0   NaN       60kgs    78    75    72     -     -     -     Henry   \n",
            "14  12.0  34.0         NaN    65    67    55     -     -     -    Michel   \n",
            "15  13.0   NaN         NaN     -     -     -    68    72    70      Tana   \n",
            "16  14.0   NaN         NaN   NaN   NaN   NaN   NaN   NaN   NaN  UniLever   \n",
            "17  15.0  52.0      180lbs     -     -     -    68    75    72       NaN   \n",
            "\n",
            "   Lastname  \n",
            "0     Mousé  \n",
            "1      Duck  \n",
            "2     Mouse  \n",
            "3    McDuck  \n",
            "4   Panther  \n",
            "5    McDuck  \n",
            "6    McDuck  \n",
            "7       Doo  \n",
            "8       NaN  \n",
            "9       NaN  \n",
            "10      NaN  \n",
            "11   McDuck  \n",
            "12   McDuck  \n",
            "13      Nam  \n",
            "14     Long  \n",
            "15    Ricky  \n",
            "16     None  \n",
            "17      NaN  \n"
          ]
        }
      ]
    },
    {
      "cell_type": "markdown",
      "source": [
        "5. Vấn đề 3: Cột Weight có vấn đề về không thống nhất các đơn vị đo lường trong dữ liệu.\n",
        "Ta sẽ chuyển các đơn vị về thành đơn vị chuẩn “kg”"
      ],
      "metadata": {
        "id": "-Q5SwVrwdmoj"
      }
    },
    {
      "cell_type": "code",
      "source": [
        "weight=df['Weight']\n",
        "for i in range(0,len(weight)):\n",
        "  x =str(weight[i])\n",
        "  if\"lbs\" in x[-3:]:\n",
        "    x=x[:-3:]\n",
        "    float_X=float(x)\n",
        "    y =int (float_X/2.2)\n",
        "    y=str(y)+\"kgs\"\n",
        "    weight[i]=y\n",
        "print(df)"
      ],
      "metadata": {
        "colab": {
          "base_uri": "https://localhost:8080/"
        },
        "id": "xQdeQFIIel1h",
        "outputId": "af50ea91-2e8e-4649-e985-1f42bc8875c4"
      },
      "execution_count": 15,
      "outputs": [
        {
          "output_type": "stream",
          "name": "stdout",
          "text": [
            "      Id   Age Weight m0006 m0612 m1218 f0006 f0612 f1218 Firstname Lastname\n",
            "0    1.0  56.0  70kgs    72    69    71     -     -     -    Mickéy    Mousé\n",
            "1    2.0  34.0  70kgs     -     -     -    85    84    76    Donald     Duck\n",
            "2    3.0  16.0    NaN     -     -     -    65    69    72      Mini    Mouse\n",
            "3    4.0   NaN  78kgs    78    79    72     -     -     -   Scrooge   McDuck\n",
            "4    5.0  54.0  90kgs     -     -     -    69   NaN    75      Pink  Panther\n",
            "5    6.0  52.0  85kgs     -     -     -    68    75    72      Huey   McDuck\n",
            "6    7.0  19.0  56kgs     -     -     -    71    78    75     Dewey   McDuck\n",
            "7    8.0  32.0  78kgs    78    76    75     -     -     -    Scööpy      Doo\n",
            "8    NaN   NaN    NaN   NaN   NaN   NaN   NaN   NaN   NaN       NaN      NaN\n",
            "9    NaN   NaN    NaN   NaN   NaN   NaN   NaN   NaN   NaN       NaN      NaN\n",
            "10   NaN   NaN    NaN   NaN   NaN   NaN   NaN   NaN   NaN       NaN      NaN\n",
            "11   9.0  52.0  85kgs     -     -     -    68    75    72      Huey   McDuck\n",
            "12  10.0  12.0  45kgs     -     -     -    92    95    87     Louie   McDuck\n",
            "13  11.0   NaN  60kgs    78    75    72     -     -     -     Henry      Nam\n",
            "14  12.0  34.0    NaN    65    67    55     -     -     -    Michel     Long\n",
            "15  13.0   NaN    NaN     -     -     -    68    72    70      Tana    Ricky\n",
            "16  14.0   NaN    NaN   NaN   NaN   NaN   NaN   NaN   NaN  UniLever     None\n",
            "17  15.0  52.0  81kgs     -     -     -    68    75    72       NaN      NaN\n"
          ]
        },
        {
          "output_type": "stream",
          "name": "stderr",
          "text": [
            "<ipython-input-15-5743046dfab4>:9: SettingWithCopyWarning: \n",
            "A value is trying to be set on a copy of a slice from a DataFrame\n",
            "\n",
            "See the caveats in the documentation: https://pandas.pydata.org/pandas-docs/stable/user_guide/indexing.html#returning-a-view-versus-a-copy\n",
            "  weight[i]=y\n",
            "<ipython-input-15-5743046dfab4>:9: SettingWithCopyWarning: \n",
            "A value is trying to be set on a copy of a slice from a DataFrame\n",
            "\n",
            "See the caveats in the documentation: https://pandas.pydata.org/pandas-docs/stable/user_guide/indexing.html#returning-a-view-versus-a-copy\n",
            "  weight[i]=y\n",
            "<ipython-input-15-5743046dfab4>:9: SettingWithCopyWarning: \n",
            "A value is trying to be set on a copy of a slice from a DataFrame\n",
            "\n",
            "See the caveats in the documentation: https://pandas.pydata.org/pandas-docs/stable/user_guide/indexing.html#returning-a-view-versus-a-copy\n",
            "  weight[i]=y\n",
            "<ipython-input-15-5743046dfab4>:9: SettingWithCopyWarning: \n",
            "A value is trying to be set on a copy of a slice from a DataFrame\n",
            "\n",
            "See the caveats in the documentation: https://pandas.pydata.org/pandas-docs/stable/user_guide/indexing.html#returning-a-view-versus-a-copy\n",
            "  weight[i]=y\n",
            "<ipython-input-15-5743046dfab4>:9: SettingWithCopyWarning: \n",
            "A value is trying to be set on a copy of a slice from a DataFrame\n",
            "\n",
            "See the caveats in the documentation: https://pandas.pydata.org/pandas-docs/stable/user_guide/indexing.html#returning-a-view-versus-a-copy\n",
            "  weight[i]=y\n"
          ]
        }
      ]
    },
    {
      "cell_type": "markdown",
      "source": [
        "6. Vấn đề 4: Vấn đề về xuất hiện dòng dữ liệu rỗng (không có giá trị: NaN). Giải pháp có\n",
        "thể đưa ra là xóa bỏ"
      ],
      "metadata": {
        "id": "r5FwEHlido1q"
      }
    },
    {
      "cell_type": "code",
      "source": [
        "df.dropna(how=\"all\",inplace=True)\n",
        "print(df)"
      ],
      "metadata": {
        "colab": {
          "base_uri": "https://localhost:8080/"
        },
        "id": "NzbGx2alemJe",
        "outputId": "0f64436d-9549-4f09-ae12-8e84a2ee5cbc"
      },
      "execution_count": 16,
      "outputs": [
        {
          "output_type": "stream",
          "name": "stdout",
          "text": [
            "      Id   Age Weight m0006 m0612 m1218 f0006 f0612 f1218 Firstname Lastname\n",
            "0    1.0  56.0  70kgs    72    69    71     -     -     -    Mickéy    Mousé\n",
            "1    2.0  34.0  70kgs     -     -     -    85    84    76    Donald     Duck\n",
            "2    3.0  16.0    NaN     -     -     -    65    69    72      Mini    Mouse\n",
            "3    4.0   NaN  78kgs    78    79    72     -     -     -   Scrooge   McDuck\n",
            "4    5.0  54.0  90kgs     -     -     -    69   NaN    75      Pink  Panther\n",
            "5    6.0  52.0  85kgs     -     -     -    68    75    72      Huey   McDuck\n",
            "6    7.0  19.0  56kgs     -     -     -    71    78    75     Dewey   McDuck\n",
            "7    8.0  32.0  78kgs    78    76    75     -     -     -    Scööpy      Doo\n",
            "11   9.0  52.0  85kgs     -     -     -    68    75    72      Huey   McDuck\n",
            "12  10.0  12.0  45kgs     -     -     -    92    95    87     Louie   McDuck\n",
            "13  11.0   NaN  60kgs    78    75    72     -     -     -     Henry      Nam\n",
            "14  12.0  34.0    NaN    65    67    55     -     -     -    Michel     Long\n",
            "15  13.0   NaN    NaN     -     -     -    68    72    70      Tana    Ricky\n",
            "16  14.0   NaN    NaN   NaN   NaN   NaN   NaN   NaN   NaN  UniLever     None\n",
            "17  15.0  52.0  81kgs     -     -     -    68    75    72       NaN      NaN\n"
          ]
        }
      ]
    },
    {
      "cell_type": "markdown",
      "source": [
        "7. Vấn đề 5: Có nhiều dòng dữ liệu bị trùng lắp thông tin hoàn toàn[fullname, lastname,\n",
        "age, weight,....], giải pháp đưa ra là chỉ giữ lại một dòng dữ liệu, tuy nhiên giải pháp phải\n",
        "dựa trên nghiệp vụ của tập dữ liệu và quan sát của người xử lý.\n"
      ],
      "metadata": {
        "id": "u7wHauf8dpFh"
      }
    },
    {
      "cell_type": "code",
      "source": [
        "df=df.drop_duplicates(subset=['Firstname','Lastname','Age','Weight'])\n",
        "print(df)"
      ],
      "metadata": {
        "colab": {
          "base_uri": "https://localhost:8080/"
        },
        "id": "vrl4gwhCemg-",
        "outputId": "f832b13c-fd08-4e39-eb93-bcc83d97a5de"
      },
      "execution_count": 18,
      "outputs": [
        {
          "output_type": "stream",
          "name": "stdout",
          "text": [
            "      Id   Age Weight m0006 m0612 m1218 f0006 f0612 f1218 Firstname Lastname\n",
            "0    1.0  56.0  70kgs    72    69    71     -     -     -    Mickéy    Mousé\n",
            "1    2.0  34.0  70kgs     -     -     -    85    84    76    Donald     Duck\n",
            "2    3.0  16.0    NaN     -     -     -    65    69    72      Mini    Mouse\n",
            "3    4.0   NaN  78kgs    78    79    72     -     -     -   Scrooge   McDuck\n",
            "4    5.0  54.0  90kgs     -     -     -    69   NaN    75      Pink  Panther\n",
            "5    6.0  52.0  85kgs     -     -     -    68    75    72      Huey   McDuck\n",
            "6    7.0  19.0  56kgs     -     -     -    71    78    75     Dewey   McDuck\n",
            "7    8.0  32.0  78kgs    78    76    75     -     -     -    Scööpy      Doo\n",
            "12  10.0  12.0  45kgs     -     -     -    92    95    87     Louie   McDuck\n",
            "13  11.0   NaN  60kgs    78    75    72     -     -     -     Henry      Nam\n",
            "14  12.0  34.0    NaN    65    67    55     -     -     -    Michel     Long\n",
            "15  13.0   NaN    NaN     -     -     -    68    72    70      Tana    Ricky\n",
            "16  14.0   NaN    NaN   NaN   NaN   NaN   NaN   NaN   NaN  UniLever     None\n",
            "17  15.0  52.0  81kgs     -     -     -    68    75    72       NaN      NaN\n"
          ]
        }
      ]
    },
    {
      "cell_type": "markdown",
      "source": [
        "8. Vấn đề 6: Xuất hiện dữ liệu bị ảnh hưởng bởi lỗi non-ASCII, không định dạng ASCII.\n",
        "Giải pháp: Tùy vào nghiệp vụ ta có thể: xóa dữ liệu tại đó, thay thế bằng dữ liệu khác\n",
        "hoặc thay bằng việc đánh dấu bằng một kí tự khác (ví dụ: ‘warning’)"
      ],
      "metadata": {
        "id": "1zgzUfs5dpR9"
      }
    },
    {
      "cell_type": "code",
      "source": [
        "df.Firstname.replace({r'[^\\x00-\\x7F]+':''}, regex=True, inplace=True)\n",
        "df.Lastname.replace({r'[^\\x00-\\x7F]+':''}, regex=True, inplace=True)\n",
        "print(df)"
      ],
      "metadata": {
        "colab": {
          "base_uri": "https://localhost:8080/"
        },
        "id": "HC1jI6U4em2I",
        "outputId": "178a9a92-4a30-445c-80a0-ca28c0f114f0"
      },
      "execution_count": 19,
      "outputs": [
        {
          "output_type": "stream",
          "name": "stdout",
          "text": [
            "      Id   Age Weight m0006 m0612 m1218 f0006 f0612 f1218 Firstname Lastname\n",
            "0    1.0  56.0  70kgs    72    69    71     -     -     -     Micky     Mous\n",
            "1    2.0  34.0  70kgs     -     -     -    85    84    76    Donald     Duck\n",
            "2    3.0  16.0    NaN     -     -     -    65    69    72      Mini    Mouse\n",
            "3    4.0   NaN  78kgs    78    79    72     -     -     -   Scrooge   McDuck\n",
            "4    5.0  54.0  90kgs     -     -     -    69   NaN    75      Pink  Panther\n",
            "5    6.0  52.0  85kgs     -     -     -    68    75    72      Huey   McDuck\n",
            "6    7.0  19.0  56kgs     -     -     -    71    78    75     Dewey   McDuck\n",
            "7    8.0  32.0  78kgs    78    76    75     -     -     -      Scpy      Doo\n",
            "12  10.0  12.0  45kgs     -     -     -    92    95    87     Louie   McDuck\n",
            "13  11.0   NaN  60kgs    78    75    72     -     -     -     Henry      Nam\n",
            "14  12.0  34.0    NaN    65    67    55     -     -     -    Michel     Long\n",
            "15  13.0   NaN    NaN     -     -     -    68    72    70      Tana    Ricky\n",
            "16  14.0   NaN    NaN   NaN   NaN   NaN   NaN   NaN   NaN  UniLever     None\n",
            "17  15.0  52.0  81kgs     -     -     -    68    75    72       NaN      NaN\n"
          ]
        },
        {
          "output_type": "stream",
          "name": "stderr",
          "text": [
            "<ipython-input-19-0403d4a73dc7>:1: SettingWithCopyWarning: \n",
            "A value is trying to be set on a copy of a slice from a DataFrame\n",
            "\n",
            "See the caveats in the documentation: https://pandas.pydata.org/pandas-docs/stable/user_guide/indexing.html#returning-a-view-versus-a-copy\n",
            "  df.Firstname.replace({r'[^\\x00-\\x7F]+':''}, regex=True, inplace=True)\n",
            "<ipython-input-19-0403d4a73dc7>:2: FutureWarning: A value is trying to be set on a copy of a DataFrame or Series through chained assignment using an inplace method.\n",
            "The behavior will change in pandas 3.0. This inplace method will never work because the intermediate object on which we are setting values always behaves as a copy.\n",
            "\n",
            "For example, when doing 'df[col].method(value, inplace=True)', try using 'df.method({col: value}, inplace=True)' or df[col] = df[col].method(value) instead, to perform the operation inplace on the original object.\n",
            "\n",
            "\n",
            "  df.Lastname.replace({r'[^\\x00-\\x7F]+':''}, regex=True, inplace=True)\n",
            "<ipython-input-19-0403d4a73dc7>:2: SettingWithCopyWarning: \n",
            "A value is trying to be set on a copy of a slice from a DataFrame\n",
            "\n",
            "See the caveats in the documentation: https://pandas.pydata.org/pandas-docs/stable/user_guide/indexing.html#returning-a-view-versus-a-copy\n",
            "  df.Lastname.replace({r'[^\\x00-\\x7F]+':''}, regex=True, inplace=True)\n"
          ]
        }
      ]
    },
    {
      "cell_type": "markdown",
      "source": [
        "9. Vấn đề 7: “Missing values”, vấn đề này xảy ra tại các cột “Age”, “Weight” và “Heart Rate”. Thiếu dữ liệu (dữ liệu không đầy đủ) là vấn đề xảy ra nhiều trong các nguồn dữ liệu do nhiều nguyên nhân chủ quan lẫn khách quan.Có một vài giải pháp để xử lý vấn đề này, chủ yếu dựa trên kinh nghiệm và nghiệp vụ về tập dữ liệu đó. Một số giải pháp đưa đề xuất từ chuyên gia như sau:\n",
        "\n",
        "a. Deletion: Remove records with missing values\n",
        "\n",
        "b. Dummy substitution: Replace missing values with a dummy but valid value:\n",
        "\n",
        "e.g.: 0 for numerical values.\n",
        "\n",
        "c. Mean substitution: Replace the missing values with the mean.\n",
        "\n",
        "d. Frequent substitution: Replace the missing values with the most frequent item.\n",
        "\n",
        "e. Improve the data collector: Your business folk will talk to the clients and inform\n",
        "them about why it is worth fixing the problem with the data collector.\n",
        "\n",
        "……\n",
        "\n",
        "Yêu cầu:\n",
        "- Thống kê thông tin dữ liệu thiếu trên từng biến Age và Weight\n",
        "- Yêu cầu xử lý dữ liệu thiếu như sau: Nếu dòng nào có Age hoặc Weight có dữ liệu thì\n",
        "phần Age hoặc Weight được tính như bên dưới, nếu thiếu cả 2 thông tin thì xóa dòng\n",
        "o Age: Giá trị thay thế là mean của các giá trị trong cột Age\n"
      ],
      "metadata": {
        "id": "3T_ACczcdpcJ"
      }
    },
    {
      "cell_type": "code",
      "source": [
        "df_before_duplicates = df.copy()\n",
        "df.drop_duplicates(inplace=True)\n",
        "print(f\"Số dòng trước khi xóa trùng lặp: {len(df_before_duplicates)}\")\n",
        "print(f\"Số dòng sau khi xóa trùng lặp: {len(df)}\")\n",
        "if len(df_before_duplicates) > len(df):\n",
        "    print(\"Đã xóa các dòng dữ liệu trùng lặp hoàn toàn.\")\n",
        "else:\n",
        "    print(\"Không có dòng dữ liệu trùng lặp hoàn toàn.\")"
      ],
      "metadata": {
        "id": "yVwI2Z7qen_w"
      },
      "execution_count": null,
      "outputs": []
    },
    {
      "cell_type": "markdown",
      "source": [
        "10. Vấn đề 8: “một cột chứa quá nhiều thông tin cần được phân rã”, như trong bài toán này ta\n",
        "thấy header “m0006” chứa các nội dung bao gồm: m → male, 1218 ~ 12-18 (mm-dd).\n",
        "Còn giá trị thì là kết quả huyết áp.\n",
        "Chúng ta sẽ tách nội dung của cột này ra làm 3 cột sau: PulseRate : giá trị huyết áp, Sex:\n",
        "giới tính ( m: male, f: female) và time: thời gian (tháng-ngày) như sau:"
      ],
      "metadata": {
        "id": "CLoGHLsTdpoQ"
      }
    },
    {
      "cell_type": "code",
      "source": [
        "def remove_non_ascii(text):\n",
        "    if isinstance(text, str):\n",
        "        return ''.join(i for i in text if ord(i) < 128)\n",
        "    return text\n",
        "\n",
        "for col in df.columns:\n",
        "    if df[col].dtype == 'object':\n",
        "        df[col] = df[col].apply(remove_non_ascii)\n",
        "print(\"Đã xử lý các ký tự không phải ASCII (nếu có).\")\n",
        "print(df.head())"
      ],
      "metadata": {
        "id": "SX964VHreoam"
      },
      "execution_count": null,
      "outputs": []
    },
    {
      "cell_type": "markdown",
      "source": [
        "11. Hãy khảo sát tỉ lệ dữ liệu thiếu trên biến huyết áp. Dữ liệu bị thiếu thì hãy xử lý bằng\n",
        "phương pháp sau\n",
        "\n",
        "• Thay thế bằng giá trị trung bình liền trước và liền sau của người đó. Nếu không được thì dùng 2)\n",
        "\n",
        "• Thay thế bằng giá trị trung bình 2 giá liền trước của người đó. Nếu không được thì dùng 3)\n",
        "\n",
        "• Thay thế bằng giá trị trung bình 2 giá liền sau của người đó. Nếu không được thì dùng 4)\n",
        "\n",
        "• Trung bình của các giá trị huyết áp của người đó. Nếu không được thì dùng 5).\n",
        "\n",
        "• Trung bình của các giá trị huyết áp của nhóm giới tính. Nếu không được thì dùng 6)\n",
        "\n",
        "• Trung bình của các giá trị dữ liệu. Nếu không được thì thay bằng mức ổn định\n",
        "trong y học."
      ],
      "metadata": {
        "id": "vh_kz-J5dp1I"
      }
    },
    {
      "cell_type": "code",
      "source": [
        "print(f\"\\nTỷ lệ dữ liệu thiếu trên biến PulseRate trước xử lý: {df['PulseRate'].isnull().sum() / len(df) * 100:.2f}%\")\n",
        "\n",
        "def fill_missing_pulse(group):\n",
        "    group = group.sort_values(by='Time')\n",
        "    pulse_values = group['PulseRate'].copy()\n",
        "\n",
        "    missing_indices = pulse_values[pulse_values.isnull()].index\n",
        "\n",
        "    for idx in missing_indices:\n",
        "        prev = pulse_values.shift(1).loc[idx]\n",
        "        next_val = pulse_values.shift(-1).loc[idx]\n",
        "\n",
        "        # 1. Trung bình liền trước và liền sau\n",
        "        if pd.notna(prev) and pd.notna(next_val):\n",
        "            pulse_values.loc[idx] = (prev + next_val) / 2\n",
        "            continue\n",
        "\n",
        "        # 2. Trung bình 2 giá liền trước\n",
        "        prev2 = pulse_values.shift(2).loc[idx]\n",
        "        if pd.notna(prev) and pd.notna(prev2):\n",
        "            pulse_values.loc[idx] = (prev + prev2) / 2\n",
        "            continue\n",
        "\n",
        "        # 3. Trung bình 2 giá liền sau\n",
        "        next2 = pulse_values.shift(-2).loc[idx]\n",
        "        if pd.notna(next_val) and pd.notna(next2):\n",
        "            pulse_values.loc[idx] = (next_val + next2) / 2\n",
        "            continue\n",
        "\n",
        "        # 4. Trung bình của các giá trị huyết áp của người đó\n",
        "        person_mean = group['PulseRate'].mean()\n",
        "        if pd.notna(person_mean):\n",
        "            pulse_values.loc[idx] = person_mean\n",
        "            continue\n",
        "\n",
        "        # 5. Trung bình của các giá trị huyết áp của nhóm giới tính\n",
        "        sex = group['Sex'].iloc[0]\n",
        "        sex_mean = df[df['Sex'] == sex]['PulseRate'].mean()\n",
        "        if pd.notna(sex_mean):\n",
        "            pulse_values.loc[idx] = sex_mean\n",
        "            continue\n",
        "\n",
        "        # 6. Trung bình của các giá trị dữ liệu\n",
        "        overall_mean = df['PulseRate'].mean()\n",
        "        if pd.notna(overall_mean):\n",
        "            pulse_values.loc[idx] = overall_mean\n",
        "            continue\n",
        "\n",
        "        # 7. Mức ổn định trong y học (giá trị tham khảo, cần chuyên gia xác nhận)\n",
        "        pulse_values.loc[idx] = 70  # Ví dụ: 70 bpm\n",
        "\n",
        "    return pulse_values\n",
        "\n",
        "df['PulseRate'] = df.groupby(['FirstName', 'LastName'], group_keys=False).apply(fill_missing_pulse)\n",
        "\n",
        "print(f\"Tỷ lệ dữ liệu thiếu trên biến PulseRate sau xử lý: {df['PulseRate'].isnull().sum() / len(df) * 100:.2f}%\")\n",
        "print(\"Đã cố gắng xử lý dữ liệu thiếu trên biến PulseRate.\")\n",
        "print(df.head())"
      ],
      "metadata": {
        "colab": {
          "base_uri": "https://localhost:8080/",
          "height": 547
        },
        "id": "wF3p-19Veo2c",
        "outputId": "96ff08ff-042c-4804-ef79-d58b93a0cbc4"
      },
      "execution_count": 20,
      "outputs": [
        {
          "output_type": "error",
          "ename": "KeyError",
          "evalue": "'PulseRate'",
          "traceback": [
            "\u001b[0;31m---------------------------------------------------------------------------\u001b[0m",
            "\u001b[0;31mKeyError\u001b[0m                                  Traceback (most recent call last)",
            "\u001b[0;32m/usr/local/lib/python3.11/dist-packages/pandas/core/indexes/base.py\u001b[0m in \u001b[0;36mget_loc\u001b[0;34m(self, key)\u001b[0m\n\u001b[1;32m   3804\u001b[0m         \u001b[0;32mtry\u001b[0m\u001b[0;34m:\u001b[0m\u001b[0;34m\u001b[0m\u001b[0;34m\u001b[0m\u001b[0m\n\u001b[0;32m-> 3805\u001b[0;31m             \u001b[0;32mreturn\u001b[0m \u001b[0mself\u001b[0m\u001b[0;34m.\u001b[0m\u001b[0m_engine\u001b[0m\u001b[0;34m.\u001b[0m\u001b[0mget_loc\u001b[0m\u001b[0;34m(\u001b[0m\u001b[0mcasted_key\u001b[0m\u001b[0;34m)\u001b[0m\u001b[0;34m\u001b[0m\u001b[0;34m\u001b[0m\u001b[0m\n\u001b[0m\u001b[1;32m   3806\u001b[0m         \u001b[0;32mexcept\u001b[0m \u001b[0mKeyError\u001b[0m \u001b[0;32mas\u001b[0m \u001b[0merr\u001b[0m\u001b[0;34m:\u001b[0m\u001b[0;34m\u001b[0m\u001b[0;34m\u001b[0m\u001b[0m\n",
            "\u001b[0;32mindex.pyx\u001b[0m in \u001b[0;36mpandas._libs.index.IndexEngine.get_loc\u001b[0;34m()\u001b[0m\n",
            "\u001b[0;32mindex.pyx\u001b[0m in \u001b[0;36mpandas._libs.index.IndexEngine.get_loc\u001b[0;34m()\u001b[0m\n",
            "\u001b[0;32mpandas/_libs/hashtable_class_helper.pxi\u001b[0m in \u001b[0;36mpandas._libs.hashtable.PyObjectHashTable.get_item\u001b[0;34m()\u001b[0m\n",
            "\u001b[0;32mpandas/_libs/hashtable_class_helper.pxi\u001b[0m in \u001b[0;36mpandas._libs.hashtable.PyObjectHashTable.get_item\u001b[0;34m()\u001b[0m\n",
            "\u001b[0;31mKeyError\u001b[0m: 'PulseRate'",
            "\nThe above exception was the direct cause of the following exception:\n",
            "\u001b[0;31mKeyError\u001b[0m                                  Traceback (most recent call last)",
            "\u001b[0;32m<ipython-input-20-9b1838bed72e>\u001b[0m in \u001b[0;36m<cell line: 0>\u001b[0;34m()\u001b[0m\n\u001b[0;32m----> 1\u001b[0;31m \u001b[0mprint\u001b[0m\u001b[0;34m(\u001b[0m\u001b[0;34mf\"\\nTỷ lệ dữ liệu thiếu trên biến PulseRate trước xử lý: {df['PulseRate'].isnull().sum() / len(df) * 100:.2f}%\"\u001b[0m\u001b[0;34m)\u001b[0m\u001b[0;34m\u001b[0m\u001b[0;34m\u001b[0m\u001b[0m\n\u001b[0m\u001b[1;32m      2\u001b[0m \u001b[0;34m\u001b[0m\u001b[0m\n\u001b[1;32m      3\u001b[0m \u001b[0;32mdef\u001b[0m \u001b[0mfill_missing_pulse\u001b[0m\u001b[0;34m(\u001b[0m\u001b[0mgroup\u001b[0m\u001b[0;34m)\u001b[0m\u001b[0;34m:\u001b[0m\u001b[0;34m\u001b[0m\u001b[0;34m\u001b[0m\u001b[0m\n\u001b[1;32m      4\u001b[0m     \u001b[0mgroup\u001b[0m \u001b[0;34m=\u001b[0m \u001b[0mgroup\u001b[0m\u001b[0;34m.\u001b[0m\u001b[0msort_values\u001b[0m\u001b[0;34m(\u001b[0m\u001b[0mby\u001b[0m\u001b[0;34m=\u001b[0m\u001b[0;34m'Time'\u001b[0m\u001b[0;34m)\u001b[0m\u001b[0;34m\u001b[0m\u001b[0;34m\u001b[0m\u001b[0m\n\u001b[1;32m      5\u001b[0m     \u001b[0mpulse_values\u001b[0m \u001b[0;34m=\u001b[0m \u001b[0mgroup\u001b[0m\u001b[0;34m[\u001b[0m\u001b[0;34m'PulseRate'\u001b[0m\u001b[0;34m]\u001b[0m\u001b[0;34m.\u001b[0m\u001b[0mcopy\u001b[0m\u001b[0;34m(\u001b[0m\u001b[0;34m)\u001b[0m\u001b[0;34m\u001b[0m\u001b[0;34m\u001b[0m\u001b[0m\n",
            "\u001b[0;32m/usr/local/lib/python3.11/dist-packages/pandas/core/frame.py\u001b[0m in \u001b[0;36m__getitem__\u001b[0;34m(self, key)\u001b[0m\n\u001b[1;32m   4100\u001b[0m             \u001b[0;32mif\u001b[0m \u001b[0mself\u001b[0m\u001b[0;34m.\u001b[0m\u001b[0mcolumns\u001b[0m\u001b[0;34m.\u001b[0m\u001b[0mnlevels\u001b[0m \u001b[0;34m>\u001b[0m \u001b[0;36m1\u001b[0m\u001b[0;34m:\u001b[0m\u001b[0;34m\u001b[0m\u001b[0;34m\u001b[0m\u001b[0m\n\u001b[1;32m   4101\u001b[0m                 \u001b[0;32mreturn\u001b[0m \u001b[0mself\u001b[0m\u001b[0;34m.\u001b[0m\u001b[0m_getitem_multilevel\u001b[0m\u001b[0;34m(\u001b[0m\u001b[0mkey\u001b[0m\u001b[0;34m)\u001b[0m\u001b[0;34m\u001b[0m\u001b[0;34m\u001b[0m\u001b[0m\n\u001b[0;32m-> 4102\u001b[0;31m             \u001b[0mindexer\u001b[0m \u001b[0;34m=\u001b[0m \u001b[0mself\u001b[0m\u001b[0;34m.\u001b[0m\u001b[0mcolumns\u001b[0m\u001b[0;34m.\u001b[0m\u001b[0mget_loc\u001b[0m\u001b[0;34m(\u001b[0m\u001b[0mkey\u001b[0m\u001b[0;34m)\u001b[0m\u001b[0;34m\u001b[0m\u001b[0;34m\u001b[0m\u001b[0m\n\u001b[0m\u001b[1;32m   4103\u001b[0m             \u001b[0;32mif\u001b[0m \u001b[0mis_integer\u001b[0m\u001b[0;34m(\u001b[0m\u001b[0mindexer\u001b[0m\u001b[0;34m)\u001b[0m\u001b[0;34m:\u001b[0m\u001b[0;34m\u001b[0m\u001b[0;34m\u001b[0m\u001b[0m\n\u001b[1;32m   4104\u001b[0m                 \u001b[0mindexer\u001b[0m \u001b[0;34m=\u001b[0m \u001b[0;34m[\u001b[0m\u001b[0mindexer\u001b[0m\u001b[0;34m]\u001b[0m\u001b[0;34m\u001b[0m\u001b[0;34m\u001b[0m\u001b[0m\n",
            "\u001b[0;32m/usr/local/lib/python3.11/dist-packages/pandas/core/indexes/base.py\u001b[0m in \u001b[0;36mget_loc\u001b[0;34m(self, key)\u001b[0m\n\u001b[1;32m   3810\u001b[0m             ):\n\u001b[1;32m   3811\u001b[0m                 \u001b[0;32mraise\u001b[0m \u001b[0mInvalidIndexError\u001b[0m\u001b[0;34m(\u001b[0m\u001b[0mkey\u001b[0m\u001b[0;34m)\u001b[0m\u001b[0;34m\u001b[0m\u001b[0;34m\u001b[0m\u001b[0m\n\u001b[0;32m-> 3812\u001b[0;31m             \u001b[0;32mraise\u001b[0m \u001b[0mKeyError\u001b[0m\u001b[0;34m(\u001b[0m\u001b[0mkey\u001b[0m\u001b[0;34m)\u001b[0m \u001b[0;32mfrom\u001b[0m \u001b[0merr\u001b[0m\u001b[0;34m\u001b[0m\u001b[0;34m\u001b[0m\u001b[0m\n\u001b[0m\u001b[1;32m   3813\u001b[0m         \u001b[0;32mexcept\u001b[0m \u001b[0mTypeError\u001b[0m\u001b[0;34m:\u001b[0m\u001b[0;34m\u001b[0m\u001b[0;34m\u001b[0m\u001b[0m\n\u001b[1;32m   3814\u001b[0m             \u001b[0;31m# If we have a listlike key, _check_indexing_error will raise\u001b[0m\u001b[0;34m\u001b[0m\u001b[0;34m\u001b[0m\u001b[0m\n",
            "\u001b[0;31mKeyError\u001b[0m: 'PulseRate'"
          ]
        }
      ]
    },
    {
      "cell_type": "markdown",
      "source": [
        "12. Hãy rút gọn dữ liệu phù hợp và reindex lại dữ liệu. Sau đó, lưu trữ dữ liệu đã xử lý thành\n",
        "công với tên file patient_heart_rate_clean.csv\n",
        "Lưu ý: Ngoài ra còn rất nhiều vấn đề về mặt xử lý dữ liệu dựa trên nhiều khía cạnh khác\n",
        "nhau tùy vào sự am hiểu về dữ liệu của các chuyên gia như:\n",
        "\n",
        "• Handling dates\n",
        "\n",
        "• Correcting character encodings (a problem you hit when you scrape data off the\n",
        "web)\n"
      ],
      "metadata": {
        "id": "VJnIb77rdqFn"
      }
    },
    {
      "cell_type": "code",
      "source": [],
      "metadata": {
        "id": "WMdn6bXnepGx"
      },
      "execution_count": null,
      "outputs": []
    }
  ]
}