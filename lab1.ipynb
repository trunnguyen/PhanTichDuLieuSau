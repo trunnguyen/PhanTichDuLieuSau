{
  "cells": [
    {
      "cell_type": "code",
      "execution_count": 1,
      "metadata": {
        "id": "1xNTwGHtENve"
      },
      "outputs": [],
      "source": [
        "import pandas as pd\n",
        "import numpy as np"
      ]
    },
    {
      "cell_type": "markdown",
      "metadata": {
        "id": "pig68HkRF6h3"
      },
      "source": [
        "3. Sử dụng Python để tải dữ liệu lên chương trình và in ra màn hình 10 dòng đầu tiên và 10\n",
        "dòng cuối cùng"
      ]
    },
    {
      "cell_type": "code",
      "execution_count": 2,
      "metadata": {
        "colab": {
          "base_uri": "https://localhost:8080/"
        },
        "id": "bK8qMyDsHNgn",
        "outputId": "7a0828cf-9453-47f5-a9af-b92619fe43fc"
      },
      "outputs": [
        {
          "name": "stdout",
          "output_type": "stream",
          "text": [
            "10 dòng đầu tiên:\n",
            "   STT   T1   L1   H1   S1   V1   X1   D1   N1   T2  ...   X6   D6   N6  GT  \\\n",
            "0    1  7.2  7.3  6.3  7.3  7.0  7.9  7.3  5.5  8.4  ...  6.6  7.6  5.9   F   \n",
            "1    2  5.4  3.9  3.9  4.0  5.4  5.4  5.3  2.8  6.3  ...  6.6  6.1  4.4   M   \n",
            "2    3  5.6  6.8  7.2  7.5  4.3  7.4  5.8  3.2  5.0  ...  7.9  8.1  4.6   M   \n",
            "3    4  6.6  6.4  5.3  6.9  5.4  7.3  6.4  5.8  5.1  ...  7.1  7.3  7.4   M   \n",
            "4    5  6.0  5.0  6.0  7.3  6.5  7.7  7.9  6.1  5.4  ...  6.1  7.5  7.2   M   \n",
            "5    6  9.3  7.6  7.9  8.6  7.0  7.3  7.7  7.9  9.6  ...  5.7  8.0  7.8   M   \n",
            "6    7  2.8  3.9  5.5  6.9  5.0  7.3  4.6  5.2  4.4  ...  6.6  6.0  6.0   F   \n",
            "7    8  8.3  6.0  7.6  5.1  7.5  4.7  5.8  7.2  6.7  ...  7.1  6.8  7.0   F   \n",
            "8    9  6.5  6.3  7.6  6.0  5.5  7.1  6.3  5.0  7.3  ...  9.1  7.9  6.1   F   \n",
            "9   10  7.3  5.9  4.7  7.1  6.7  7.9  6.7  7.7  8.0  ...  6.4  6.1  7.8   F   \n",
            "\n",
            "   DT   KV   DH1   DH2   DH3  KT  \n",
            "0 NaN  2NT  3.25  3.25  4.50  A1  \n",
            "1 NaN    1  6.00  4.00  3.50   C  \n",
            "2 NaN    1  5.00  6.75  4.00   C  \n",
            "3 NaN    1  4.25  4.25  5.25  D1  \n",
            "4 NaN  2NT  4.25  4.50  5.00   A  \n",
            "5 NaN    1  1.50  4.00  6.00  D1  \n",
            "6 NaN    2  6.50  6.75  5.25   C  \n",
            "7 NaN    2  3.75  4.50  4.25  D1  \n",
            "8 NaN    1  3.50  3.50  6.75  D1  \n",
            "9 NaN    1  4.00  4.75  5.50  D1  \n",
            "\n",
            "[10 rows x 56 columns]\n"
          ]
        }
      ],
      "source": [
        "df = pd.read_csv('/content/dulieuxettuyendaihoc.csv')\n",
        "print(\"10 dòng đầu tiên:\")\n",
        "print(df.head(10))"
      ]
    },
    {
      "cell_type": "markdown",
      "metadata": {
        "id": "5TAj7a31GXGl"
      },
      "source": [
        "1. Xác định và phân loại dữ liệu định tính và định lượng"
      ]
    },
    {
      "cell_type": "code",
      "execution_count": 3,
      "metadata": {
        "colab": {
          "base_uri": "https://localhost:8080/"
        },
        "id": "Pqe8ihPzHOJo",
        "outputId": "43462bc3-f19c-4a87-827e-8b1991aa2fb6"
      },
      "outputs": [
        {
          "name": "stdout",
          "output_type": "stream",
          "text": [
            "\n",
            "Phân loại dữ liệu:\n",
            "Dữ liệu định tính (Categorical): GT, DT, KV, KT\n",
            "Dữ liệu định lượng (Numerical): T1, L1, H1, S1, V1, X1, D1, N1, T2, L2, H2, S2, V2, X2, D2, N2, T6, L6, H6, S6, V6, X6, D6, N6, DH1, DH2, DH3\n"
          ]
        }
      ],
      "source": [
        "print(\"\\nPhân loại dữ liệu:\")\n",
        "print(\"Dữ liệu định tính (Categorical): GT, DT, KV, KT\")\n",
        "print(\"Dữ liệu định lượng (Numerical): T1, L1, H1, S1, V1, X1, D1, N1, T2, L2, H2, S2, V2, X2, D2, N2, T6, L6, H6, S6, V6, X6, D6, N6, DH1, DH2, DH3\")"
      ]
    },
    {
      "cell_type": "markdown",
      "metadata": {
        "id": "1vCsk5q1GdBS"
      },
      "source": [
        "2. Định nghĩa các thang đo phù hợp cho từng biến số\n"
      ]
    },
    {
      "cell_type": "code",
      "execution_count": 4,
      "metadata": {
        "colab": {
          "base_uri": "https://localhost:8080/"
        },
        "id": "HtgJBdkwHOp_",
        "outputId": "1e0dba4d-6ffc-441e-fdac-bbaf2d98ff27"
      },
      "outputs": [
        {
          "name": "stdout",
          "output_type": "stream",
          "text": [
            "\n",
            "Thang đo của các biến số:\n",
            "Nominal (danh nghĩa): GT, DT, KV, KT\n",
            "Ordinal (thứ bậc): XL1, XL2, XL3 (sau khi tạo)\n",
            "Interval (khoảng): Không có biến nào thực sự là interval trong tập dữ liệu này (điểm số có thể coi là tỷ lệ)\n",
            "Ratio (tỷ lệ): T1, L1, H1, S1, V1, X1, D1, N1, T2, L2, H2, S2, V2, X2, D2, N2, T6, L6, H6, S6, V6, X6, D6, N6, DH1, DH2, DH3, TBM1, TBM2, TBM3, US_TBM1, US_TBM2, US_TBM3\n"
          ]
        }
      ],
      "source": [
        "print(\"\\nThang đo của các biến số:\")\n",
        "print(\"Nominal (danh nghĩa): GT, DT, KV, KT\")\n",
        "print(\"Ordinal (thứ bậc): XL1, XL2, XL3 (sau khi tạo)\")\n",
        "print(\"Interval (khoảng): Không có biến nào thực sự là interval trong tập dữ liệu này (điểm số có thể coi là tỷ lệ)\")\n",
        "print(\"Ratio (tỷ lệ): T1, L1, H1, S1, V1, X1, D1, N1, T2, L2, H2, S2, V2, X2, D2, N2, T6, L6, H6, S6, V6, X6, D6, N6, DH1, DH2, DH3, TBM1, TBM2, TBM3, US_TBM1, US_TBM2, US_TBM3\")"
      ]
    },
    {
      "cell_type": "markdown",
      "metadata": {
        "id": "HrTrKt-jGfFx"
      },
      "source": [
        "4. Thống kê dữ liệu thiếu cho cột dân tộc và hiệu chỉnh dữ liệu thiếu như sau: Mặc định thiếu\n",
        "thì điền giá trị 0.\n"
      ]
    },
    {
      "cell_type": "code",
      "execution_count": 6,
      "metadata": {
        "colab": {
          "base_uri": "https://localhost:8080/"
        },
        "id": "zrLyFbeKHO7q",
        "outputId": "b727c0bf-c0bf-4767-8b4a-0793f70383f8"
      },
      "outputs": [
        {
          "name": "stdout",
          "output_type": "stream",
          "text": [
            "\n",
            "--- Xử lý dữ liệu thiếu cho cột DT ---\n",
            "\n",
            "1. Thống kê dữ liệu thiếu cho cột DT:\n",
            "Số lượng giá trị thiếu: 97\n",
            "Bảng tần số giá trị DT:\n",
            "DT\n",
            "NaN    97\n",
            "1.0     2\n",
            "6.0     1\n",
            "Name: count, dtype: int64\n",
            "\n",
            "Số lượng giá trị riêng biệt (unique): 2\n",
            "Các giá trị riêng biệt: [nan  1.  6.]\n",
            "\n",
            "2. Thực hiện thay thế dữ liệu thiếu cho cột DT bằng giá trị 0:\n",
            "\n",
            "Số lượng giá trị thiếu sau khi thay thế: 0\n",
            "Bảng tần số giá trị DT sau khi thay thế:\n",
            "DT\n",
            "0.0    97\n",
            "1.0     2\n",
            "6.0     1\n",
            "Name: count, dtype: int64\n"
          ]
        }
      ],
      "source": [
        "print(\"\\n--- Xử lý dữ liệu thiếu cho cột DT ---\")\n",
        "print(\"\\n1. Thống kê dữ liệu thiếu cho cột DT:\")\n",
        "print(\"Số lượng giá trị thiếu:\", df['DT'].isnull().sum())\n",
        "print(\"Bảng tần số giá trị DT:\")\n",
        "print(df['DT'].value_counts(dropna=False))\n",
        "print(\"\\nSố lượng giá trị riêng biệt (unique):\", df['DT'].nunique())\n",
        "print(\"Các giá trị riêng biệt:\", df['DT'].unique())\n",
        "\n",
        "print(\"\\n2. Thực hiện thay thế dữ liệu thiếu cho cột DT bằng giá trị 0:\")\n",
        "df['DT'] = df['DT'].fillna(0)\n",
        "print(\"\\nSố lượng giá trị thiếu sau khi thay thế:\", df['DT'].isnull().sum())\n",
        "print(\"Bảng tần số giá trị DT sau khi thay thế:\")\n",
        "print(df['DT'].value_counts(dropna=False))"
      ]
    },
    {
      "cell_type": "markdown",
      "metadata": {
        "id": "OA866geMGhF7"
      },
      "source": [
        "5. Thống kê dữ liệu thiếu cho biến T1 và hiệu chỉnh dữ liệu, lưu ý việc thay thế dữ liệu thiếu sử\n",
        "dụng phương pháp Mean.\n"
      ]
    },
    {
      "cell_type": "code",
      "execution_count": 7,
      "metadata": {
        "colab": {
          "base_uri": "https://localhost:8080/"
        },
        "id": "THNnqHeLHPRP",
        "outputId": "09e988e4-e105-4e23-c8ee-4d94db3da85e"
      },
      "outputs": [
        {
          "name": "stdout",
          "output_type": "stream",
          "text": [
            "\n",
            "--- Xử lý dữ liệu thiếu cho biến T1 ---\n",
            "\n",
            "1. Thống kê dữ liệu thiếu cho biến T1:\n",
            "Số lượng giá trị thiếu: 0\n",
            "Bảng tần số giá trị T1 (bao gồm cả NaN):\n",
            "T1\n",
            "2.4    1\n",
            "2.5    1\n",
            "2.6    1\n",
            "2.7    1\n",
            "2.8    1\n",
            "3.0    2\n",
            "3.4    1\n",
            "3.6    2\n",
            "3.7    1\n",
            "3.9    1\n",
            "4.1    1\n",
            "4.2    1\n",
            "4.3    1\n",
            "4.4    1\n",
            "4.5    1\n",
            "4.6    1\n",
            "4.7    1\n",
            "4.8    1\n",
            "4.9    3\n",
            "5.0    3\n",
            "5.1    2\n",
            "5.2    5\n",
            "5.3    5\n",
            "5.4    3\n",
            "5.5    3\n",
            "5.6    2\n",
            "5.7    2\n",
            "5.8    2\n",
            "5.9    1\n",
            "6.0    4\n",
            "6.1    1\n",
            "6.2    1\n",
            "6.3    3\n",
            "6.4    2\n",
            "6.5    3\n",
            "6.6    2\n",
            "6.7    1\n",
            "6.9    1\n",
            "7.0    1\n",
            "7.1    2\n",
            "7.2    4\n",
            "7.3    5\n",
            "7.5    1\n",
            "7.6    1\n",
            "7.8    1\n",
            "7.9    4\n",
            "8.1    2\n",
            "8.2    3\n",
            "8.3    2\n",
            "8.4    1\n",
            "8.6    1\n",
            "8.8    2\n",
            "9.3    1\n",
            "Name: count, dtype: int64\n",
            "\n",
            "Tần suất giá trị T1 (bao gồm cả NaN):\n",
            "T1\n",
            "2.4    0.01\n",
            "2.5    0.01\n",
            "2.6    0.01\n",
            "2.7    0.01\n",
            "2.8    0.01\n",
            "3.0    0.02\n",
            "3.4    0.01\n",
            "3.6    0.02\n",
            "3.7    0.01\n",
            "3.9    0.01\n",
            "4.1    0.01\n",
            "4.2    0.01\n",
            "4.3    0.01\n",
            "4.4    0.01\n",
            "4.5    0.01\n",
            "4.6    0.01\n",
            "4.7    0.01\n",
            "4.8    0.01\n",
            "4.9    0.03\n",
            "5.0    0.03\n",
            "5.1    0.02\n",
            "5.2    0.05\n",
            "5.3    0.05\n",
            "5.4    0.03\n",
            "5.5    0.03\n",
            "5.6    0.02\n",
            "5.7    0.02\n",
            "5.8    0.02\n",
            "5.9    0.01\n",
            "6.0    0.04\n",
            "6.1    0.01\n",
            "6.2    0.01\n",
            "6.3    0.03\n",
            "6.4    0.02\n",
            "6.5    0.03\n",
            "6.6    0.02\n",
            "6.7    0.01\n",
            "6.9    0.01\n",
            "7.0    0.01\n",
            "7.1    0.02\n",
            "7.2    0.04\n",
            "7.3    0.05\n",
            "7.5    0.01\n",
            "7.6    0.01\n",
            "7.8    0.01\n",
            "7.9    0.04\n",
            "8.1    0.02\n",
            "8.2    0.03\n",
            "8.3    0.02\n",
            "8.4    0.01\n",
            "8.6    0.01\n",
            "8.8    0.02\n",
            "9.3    0.01\n",
            "Name: proportion, dtype: float64\n",
            "\n",
            "2. Thực hiện thay thế dữ liệu thiếu cho cột T1 bằng giá trị Mean:\n",
            "\n",
            "Số lượng giá trị thiếu sau khi thay thế: 0\n",
            "Giá trị trung bình đã dùng để thay thế: 5.946000000000001\n",
            "Bảng tần số giá trị T1 sau khi thay thế:\n",
            "T1\n",
            "2.4    1\n",
            "2.5    1\n",
            "2.6    1\n",
            "2.7    1\n",
            "2.8    1\n",
            "3.0    2\n",
            "3.4    1\n",
            "3.6    2\n",
            "3.7    1\n",
            "3.9    1\n",
            "4.1    1\n",
            "4.2    1\n",
            "4.3    1\n",
            "4.4    1\n",
            "4.5    1\n",
            "4.6    1\n",
            "4.7    1\n",
            "4.8    1\n",
            "4.9    3\n",
            "5.0    3\n",
            "5.1    2\n",
            "5.2    5\n",
            "5.3    5\n",
            "5.4    3\n",
            "5.5    3\n",
            "5.6    2\n",
            "5.7    2\n",
            "5.8    2\n",
            "5.9    1\n",
            "6.0    4\n",
            "6.1    1\n",
            "6.2    1\n",
            "6.3    3\n",
            "6.4    2\n",
            "6.5    3\n",
            "6.6    2\n",
            "6.7    1\n",
            "6.9    1\n",
            "7.0    1\n",
            "7.1    2\n",
            "7.2    4\n",
            "7.3    5\n",
            "7.5    1\n",
            "7.6    1\n",
            "7.8    1\n",
            "7.9    4\n",
            "8.1    2\n",
            "8.2    3\n",
            "8.3    2\n",
            "8.4    1\n",
            "8.6    1\n",
            "8.8    2\n",
            "9.3    1\n",
            "Name: count, dtype: int64\n"
          ]
        }
      ],
      "source": [
        "print(\"\\n--- Xử lý dữ liệu thiếu cho biến T1 ---\")\n",
        "print(\"\\n1. Thống kê dữ liệu thiếu cho biến T1:\")\n",
        "print(\"Số lượng giá trị thiếu:\", df['T1'].isnull().sum())\n",
        "print(\"Bảng tần số giá trị T1 (bao gồm cả NaN):\")\n",
        "print(df['T1'].value_counts(dropna=False).sort_index())\n",
        "print(\"\\nTần suất giá trị T1 (bao gồm cả NaN):\")\n",
        "print(df['T1'].value_counts(dropna=False, normalize=True).sort_index())\n",
        "\n",
        "print(\"\\n2. Thực hiện thay thế dữ liệu thiếu cho cột T1 bằng giá trị Mean:\")\n",
        "mean_T1 = df['T1'].mean()\n",
        "df['T1'] = df['T1'].fillna(mean_T1)\n",
        "print(\"\\nSố lượng giá trị thiếu sau khi thay thế:\", df['T1'].isnull().sum())\n",
        "print(\"Giá trị trung bình đã dùng để thay thế:\", mean_T1)\n",
        "print(\"Bảng tần số giá trị T1 sau khi thay thế:\")\n",
        "print(df['T1'].value_counts(dropna=False).sort_index())"
      ]
    },
    {
      "cell_type": "markdown",
      "metadata": {
        "id": "KhhJpm6UGjG5"
      },
      "source": [
        "6. Hãy thực hiện xử lý lần lượt tất cả dữ liệu thiếu cho các biến về điểm số còn lại."
      ]
    },
    {
      "cell_type": "code",
      "execution_count": 8,
      "metadata": {
        "colab": {
          "base_uri": "https://localhost:8080/"
        },
        "id": "cGSgehyZHPlR",
        "outputId": "a8d0f03c-48d8-4003-abb0-e0b08bb6aec7"
      },
      "outputs": [
        {
          "name": "stdout",
          "output_type": "stream",
          "text": [
            "\n",
            "--- Xử lý dữ liệu thiếu cho các biến điểm số còn lại bằng phương pháp Mean ---\n",
            "\n",
            "--- Xử lý dữ liệu thiếu cho cột L1 ---\n",
            "Số lượng giá trị thiếu ban đầu của cột L1: 0\n",
            "Đã thay thế giá trị thiếu bằng giá trị trung bình: 5.82\n",
            "Số lượng giá trị thiếu sau khi thay thế của cột L1: 0\n",
            "\n",
            "--- Xử lý dữ liệu thiếu cho cột H1 ---\n",
            "Số lượng giá trị thiếu ban đầu của cột H1: 0\n",
            "Đã thay thế giá trị thiếu bằng giá trị trung bình: 6.28\n",
            "Số lượng giá trị thiếu sau khi thay thế của cột H1: 0\n",
            "\n",
            "--- Xử lý dữ liệu thiếu cho cột S1 ---\n",
            "Số lượng giá trị thiếu ban đầu của cột S1: 0\n",
            "Đã thay thế giá trị thiếu bằng giá trị trung bình: 6.50\n",
            "Số lượng giá trị thiếu sau khi thay thế của cột S1: 0\n",
            "\n",
            "--- Xử lý dữ liệu thiếu cho cột V1 ---\n",
            "Số lượng giá trị thiếu ban đầu của cột V1: 0\n",
            "Đã thay thế giá trị thiếu bằng giá trị trung bình: 5.92\n",
            "Số lượng giá trị thiếu sau khi thay thế của cột V1: 0\n",
            "\n",
            "--- Xử lý dữ liệu thiếu cho cột X1 ---\n",
            "Số lượng giá trị thiếu ban đầu của cột X1: 0\n",
            "Đã thay thế giá trị thiếu bằng giá trị trung bình: 6.61\n",
            "Số lượng giá trị thiếu sau khi thay thế của cột X1: 0\n",
            "\n",
            "--- Xử lý dữ liệu thiếu cho cột D1 ---\n",
            "Số lượng giá trị thiếu ban đầu của cột D1: 0\n",
            "Đã thay thế giá trị thiếu bằng giá trị trung bình: 6.44\n",
            "Số lượng giá trị thiếu sau khi thay thế của cột D1: 0\n",
            "\n",
            "--- Xử lý dữ liệu thiếu cho cột N1 ---\n",
            "Số lượng giá trị thiếu ban đầu của cột N1: 0\n",
            "Đã thay thế giá trị thiếu bằng giá trị trung bình: 5.47\n",
            "Số lượng giá trị thiếu sau khi thay thế của cột N1: 0\n",
            "\n",
            "--- Xử lý dữ liệu thiếu cho cột T2 ---\n",
            "Số lượng giá trị thiếu ban đầu của cột T2: 0\n",
            "Đã thay thế giá trị thiếu bằng giá trị trung bình: 6.37\n",
            "Số lượng giá trị thiếu sau khi thay thế của cột T2: 0\n",
            "\n",
            "--- Xử lý dữ liệu thiếu cho cột L2 ---\n",
            "Số lượng giá trị thiếu ban đầu của cột L2: 0\n",
            "Đã thay thế giá trị thiếu bằng giá trị trung bình: 6.18\n",
            "Số lượng giá trị thiếu sau khi thay thế của cột L2: 0\n",
            "\n",
            "--- Xử lý dữ liệu thiếu cho cột H2 ---\n",
            "Số lượng giá trị thiếu ban đầu của cột H2: 0\n",
            "Đã thay thế giá trị thiếu bằng giá trị trung bình: 6.19\n",
            "Số lượng giá trị thiếu sau khi thay thế của cột H2: 0\n",
            "\n",
            "--- Xử lý dữ liệu thiếu cho cột S2 ---\n",
            "Số lượng giá trị thiếu ban đầu của cột S2: 0\n",
            "Đã thay thế giá trị thiếu bằng giá trị trung bình: 6.98\n",
            "Số lượng giá trị thiếu sau khi thay thế của cột S2: 0\n",
            "\n",
            "--- Xử lý dữ liệu thiếu cho cột V2 ---\n",
            "Số lượng giá trị thiếu ban đầu của cột V2: 0\n",
            "Đã thay thế giá trị thiếu bằng giá trị trung bình: 6.12\n",
            "Số lượng giá trị thiếu sau khi thay thế của cột V2: 0\n",
            "\n",
            "--- Xử lý dữ liệu thiếu cho cột X2 ---\n",
            "Số lượng giá trị thiếu ban đầu của cột X2: 0\n",
            "Đã thay thế giá trị thiếu bằng giá trị trung bình: 6.99\n",
            "Số lượng giá trị thiếu sau khi thay thế của cột X2: 0\n",
            "\n",
            "--- Xử lý dữ liệu thiếu cho cột D2 ---\n",
            "Số lượng giá trị thiếu ban đầu của cột D2: 0\n",
            "Đã thay thế giá trị thiếu bằng giá trị trung bình: 6.84\n",
            "Số lượng giá trị thiếu sau khi thay thế của cột D2: 0\n",
            "\n",
            "--- Xử lý dữ liệu thiếu cho cột N2 ---\n",
            "Số lượng giá trị thiếu ban đầu của cột N2: 0\n",
            "Đã thay thế giá trị thiếu bằng giá trị trung bình: 5.83\n",
            "Số lượng giá trị thiếu sau khi thay thế của cột N2: 0\n",
            "\n",
            "--- Xử lý dữ liệu thiếu cho cột T6 ---\n",
            "Số lượng giá trị thiếu ban đầu của cột T6: 0\n",
            "Đã thay thế giá trị thiếu bằng giá trị trung bình: 6.94\n",
            "Số lượng giá trị thiếu sau khi thay thế của cột T6: 0\n",
            "\n",
            "--- Xử lý dữ liệu thiếu cho cột L6 ---\n",
            "Số lượng giá trị thiếu ban đầu của cột L6: 0\n",
            "Đã thay thế giá trị thiếu bằng giá trị trung bình: 6.90\n",
            "Số lượng giá trị thiếu sau khi thay thế của cột L6: 0\n",
            "\n",
            "--- Xử lý dữ liệu thiếu cho cột H6 ---\n",
            "Số lượng giá trị thiếu ban đầu của cột H6: 0\n",
            "Đã thay thế giá trị thiếu bằng giá trị trung bình: 6.71\n",
            "Số lượng giá trị thiếu sau khi thay thế của cột H6: 0\n",
            "\n",
            "--- Xử lý dữ liệu thiếu cho cột S6 ---\n",
            "Số lượng giá trị thiếu ban đầu của cột S6: 0\n",
            "Đã thay thế giá trị thiếu bằng giá trị trung bình: 6.71\n",
            "Số lượng giá trị thiếu sau khi thay thế của cột S6: 0\n",
            "\n",
            "--- Xử lý dữ liệu thiếu cho cột V6 ---\n",
            "Số lượng giá trị thiếu ban đầu của cột V6: 0\n",
            "Đã thay thế giá trị thiếu bằng giá trị trung bình: 6.47\n",
            "Số lượng giá trị thiếu sau khi thay thế của cột V6: 0\n",
            "\n",
            "--- Xử lý dữ liệu thiếu cho cột X6 ---\n",
            "Số lượng giá trị thiếu ban đầu của cột X6: 0\n",
            "Đã thay thế giá trị thiếu bằng giá trị trung bình: 6.89\n",
            "Số lượng giá trị thiếu sau khi thay thế của cột X6: 0\n",
            "\n",
            "--- Xử lý dữ liệu thiếu cho cột D6 ---\n",
            "Số lượng giá trị thiếu ban đầu của cột D6: 0\n",
            "Đã thay thế giá trị thiếu bằng giá trị trung bình: 6.74\n",
            "Số lượng giá trị thiếu sau khi thay thế của cột D6: 0\n",
            "\n",
            "--- Xử lý dữ liệu thiếu cho cột N6 ---\n",
            "Số lượng giá trị thiếu ban đầu của cột N6: 0\n",
            "Đã thay thế giá trị thiếu bằng giá trị trung bình: 6.02\n",
            "Số lượng giá trị thiếu sau khi thay thế của cột N6: 0\n",
            "\n",
            "--- Xử lý dữ liệu thiếu cho cột DH1 ---\n",
            "Số lượng giá trị thiếu ban đầu của cột DH1: 0\n",
            "Đã thay thế giá trị thiếu bằng giá trị trung bình: 3.74\n",
            "Số lượng giá trị thiếu sau khi thay thế của cột DH1: 0\n",
            "\n",
            "--- Xử lý dữ liệu thiếu cho cột DH2 ---\n",
            "Số lượng giá trị thiếu ban đầu của cột DH2: 0\n",
            "Đã thay thế giá trị thiếu bằng giá trị trung bình: 4.25\n",
            "Số lượng giá trị thiếu sau khi thay thế của cột DH2: 0\n",
            "\n",
            "--- Xử lý dữ liệu thiếu cho cột DH3 ---\n",
            "Số lượng giá trị thiếu ban đầu của cột DH3: 0\n",
            "Đã thay thế giá trị thiếu bằng giá trị trung bình: 4.88\n",
            "Số lượng giá trị thiếu sau khi thay thế của cột DH3: 0\n"
          ]
        }
      ],
      "source": [
        "columns_to_fill_mean = ['L1', 'H1', 'S1', 'V1', 'X1', 'D1', 'N1',\n",
        "                         'T2', 'L2', 'H2', 'S2', 'V2', 'X2', 'D2', 'N2',\n",
        "                         'T6', 'L6', 'H6', 'S6', 'V6', 'X6', 'D6', 'N6',\n",
        "                         'DH1', 'DH2', 'DH3']\n",
        "\n",
        "print(\"\\n--- Xử lý dữ liệu thiếu cho các biến điểm số còn lại bằng phương pháp Mean ---\")\n",
        "for col in columns_to_fill_mean:\n",
        "    print(f\"\\n--- Xử lý dữ liệu thiếu cho cột {col} ---\")\n",
        "    print(f\"Số lượng giá trị thiếu ban đầu của cột {col}:\", df[col].isnull().sum())\n",
        "    mean_val = df[col].mean()\n",
        "    df[col] = df[col].fillna(mean_val)\n",
        "    print(f\"Đã thay thế giá trị thiếu bằng giá trị trung bình: {mean_val:.2f}\")\n",
        "    print(f\"Số lượng giá trị thiếu sau khi thay thế của cột {col}:\", df[col].isnull().sum())"
      ]
    },
    {
      "cell_type": "markdown",
      "metadata": {
        "id": "3QN37JPZGksN"
      },
      "source": [
        "7. Tạo các biến TBM1, TBM2, TBM3 tương ứng với trung bình môn của các năm lớp 10, 11 và 12.\n",
        "\n",
        "• Công thức tính: TBM = (T*2 + L + H + S + V*2 + X + D + N) / 10"
      ]
    },
    {
      "cell_type": "code",
      "execution_count": 9,
      "metadata": {
        "colab": {
          "base_uri": "https://localhost:8080/"
        },
        "id": "vTPJNpY5HQKY",
        "outputId": "9877e1b5-8c12-4af4-85cc-dd5dfec6cbed"
      },
      "outputs": [
        {
          "name": "stdout",
          "output_type": "stream",
          "text": [
            "\n",
            "Đã tạo các biến TBM1, TBM2, TBM3:\n",
            "   TBM1  TBM2  TBM3\n",
            "0  7.00  7.54  7.01\n",
            "1  4.69  5.47  5.07\n",
            "2  5.77  5.38  6.04\n",
            "3  6.21  5.20  6.88\n",
            "4  6.50  6.36  6.99\n"
          ]
        }
      ],
      "source": [
        "df['TBM1'] = (df['T1'] * 2 + df['L1'] + df['H1'] + df['S1'] + df['V1'] * 2 + df['X1'] + df['D1'] + df['N1']) / 10\n",
        "df['TBM2'] = (df['T2'] * 2 + df['L2'] + df['H2'] + df['S2'] + df['V2'] * 2 + df['X2'] + df['D2'] + df['N2']) / 10\n",
        "df['TBM3'] = (df['T6'] * 2 + df['L6'] + df['H6'] + df['S6'] + df['V6'] * 2 + df['X6'] + df['D6'] + df['N6']) / 10\n",
        "\n",
        "print(\"\\nĐã tạo các biến TBM1, TBM2, TBM3:\")\n",
        "print(df[['TBM1', 'TBM2', 'TBM3']].head())"
      ]
    },
    {
      "cell_type": "markdown",
      "metadata": {
        "id": "3ONy9W6wGnIu"
      },
      "source": [
        "8. Tạo các biến xếp loại XL1, XL2 và XL3 dựa trên TBM1,TBM2 và TBM3 cho từng năm lớp\n",
        "10, 11, 12 như sau:\n",
        "\n",
        "• Nhỏ hơn 5.0 xếp loại: yếu (kí hiệu là Y)\n",
        "\n",
        "• Từ 5.0 đến dưới 6.5: trung bình (kí hiệu là TB)\n",
        "\n",
        "• Từ 6.5 đến dưới 8.0: khá (kí hiệu là K)\n",
        "\n",
        "• Từ 8.0 đến dưới 9.0: giỏi (kí hiệu là G)\n",
        "\n",
        "• Từ 9.0 trở lên: xuất sắc (kí hiệu là XS)\n"
      ]
    },
    {
      "cell_type": "code",
      "execution_count": 10,
      "metadata": {
        "colab": {
          "base_uri": "https://localhost:8080/"
        },
        "id": "3paVt0jrHQvW",
        "outputId": "7ba05b1c-abc2-49c9-8b18-5d19dd4bab70"
      },
      "outputs": [
        {
          "name": "stdout",
          "output_type": "stream",
          "text": [
            "\n",
            "Đã tạo các biến xếp loại XL1, XL2, XL3:\n",
            "   TBM1 XL1  TBM2 XL2  TBM3 XL3\n",
            "0  7.00   K  7.54   K  7.01   K\n",
            "1  4.69   Y  5.47  TB  5.07  TB\n",
            "2  5.77  TB  5.38  TB  6.04  TB\n",
            "3  6.21  TB  5.20  TB  6.88   K\n",
            "4  6.50   K  6.36  TB  6.99   K\n"
          ]
        }
      ],
      "source": [
        "def xep_loai(tbm):\n",
        "    if tbm < 5.0:\n",
        "        return 'Y'\n",
        "    elif tbm < 6.5:\n",
        "        return 'TB'\n",
        "    elif tbm < 8.0:\n",
        "        return 'K'\n",
        "    elif tbm < 9.0:\n",
        "        return 'G'\n",
        "    else:\n",
        "        return 'XS'\n",
        "\n",
        "df['XL1'] = df['TBM1'].apply(xep_loai)\n",
        "df['XL2'] = df['TBM2'].apply(xep_loai)\n",
        "df['XL3'] = df['TBM3'].apply(xep_loai)\n",
        "\n",
        "print(\"\\nĐã tạo các biến xếp loại XL1, XL2, XL3:\")\n",
        "print(df[['TBM1', 'XL1', 'TBM2', 'XL2', 'TBM3', 'XL3']].head())"
      ]
    },
    {
      "cell_type": "markdown",
      "metadata": {
        "id": "VriF7FiTGxab"
      },
      "source": [
        "9. Tạo các biến US_TBM1, US_TBM2 và US_TBM3 để chuyển điểm trung bình các năm lớp\n",
        "10, 11 và 12 từ thang điểm 10 của Việt Nam sang thang điểm 4 của Mỹ. Sử dụng phương\n",
        "pháp Min-Max Normalization\n"
      ]
    },
    {
      "cell_type": "code",
      "execution_count": 11,
      "metadata": {
        "colab": {
          "base_uri": "https://localhost:8080/"
        },
        "id": "ChPgkJ3yHRUm",
        "outputId": "11c4aa37-da2e-4caf-a8b3-b163bee3ed93"
      },
      "outputs": [
        {
          "name": "stdout",
          "output_type": "stream",
          "text": [
            "\n",
            "Đã tạo các biến US_TBM1, US_TBM2, US_TBM3 (thang điểm 4):\n",
            "   TBM1   US_TBM1  TBM2   US_TBM2  TBM3   US_TBM3\n",
            "0  7.00  2.930693  7.54  3.029126  7.01  2.537143\n",
            "1  4.69  0.643564  5.47  1.019417  5.07  0.320000\n",
            "2  5.77  1.712871  5.38  0.932039  6.04  1.428571\n",
            "3  6.21  2.148515  5.20  0.757282  6.88  2.388571\n",
            "4  6.50  2.435644  6.36  1.883495  6.99  2.514286\n"
          ]
        }
      ],
      "source": [
        "def min_max_normalize(series):\n",
        "    min_val = series.min()\n",
        "    max_val = series.max()\n",
        "    return (series - min_val) * 4 / (max_val - min_val)\n",
        "\n",
        "df['US_TBM1'] = min_max_normalize(df['TBM1'])\n",
        "df['US_TBM2'] = min_max_normalize(df['TBM2'])\n",
        "df['US_TBM3'] = min_max_normalize(df['TBM3'])\n",
        "\n",
        "print(\"\\nĐã tạo các biến US_TBM1, US_TBM2, US_TBM3 (thang điểm 4):\")\n",
        "print(df[['TBM1', 'US_TBM1', 'TBM2', 'US_TBM2', 'TBM3', 'US_TBM3']].head())"
      ]
    },
    {
      "cell_type": "markdown",
      "metadata": {
        "id": "cIubH9zBHB5-"
      },
      "source": [
        "10. Tạo biến kết quả xét tuyển (kí hiệu là KQXT) nhằm xác định sinh viên đậu (giá trị “1”) và rớt ( giá trị “0”) vào các khối dựa trên điểm DH1, DH2 và DH3 như sau\n",
        "\n",
        "• Với khối A, A1 nếu [(DH1*2 + DH2 + DH3)/4] lớn hơn hoặc bằng 5.0 thì đậu, ngược lại là rớt\n",
        "\n",
        "• Với khối B nếu [(DH1 + DH2*2 + DH3)/4] lớn hơn hoặc bằng 5.0 thì đậu, ngược\n",
        "lại là rớt\n",
        "\n",
        "• Với khối khác nếu [(DH1+ DH2 + DH3)/3] lớn hơn hoặc bằng 5.0 thì đậu, ngược\n",
        "lại là rớt"
      ]
    },
    {
      "cell_type": "code",
      "execution_count": 12,
      "metadata": {
        "colab": {
          "base_uri": "https://localhost:8080/"
        },
        "id": "qFVfZmyJHR01",
        "outputId": "c9a87f35-eeab-4288-a1a2-9cd2f06b8190"
      },
      "outputs": [
        {
          "name": "stdout",
          "output_type": "stream",
          "text": [
            "\n",
            "Đã tạo biến KQXT (kết quả xét tuyển):\n",
            "   KT   DH1   DH2   DH3  KQXT\n",
            "0  A1  3.25  3.25  4.50     0\n",
            "1   C  6.00  4.00  3.50     0\n",
            "2   C  5.00  6.75  4.00     1\n",
            "3  D1  4.25  4.25  5.25     0\n",
            "4   A  4.25  4.50  5.00     0\n",
            "5  D1  1.50  4.00  6.00     0\n",
            "6   C  6.50  6.75  5.25     1\n",
            "7  D1  3.75  4.50  4.25     0\n",
            "8  D1  3.50  3.50  6.75     0\n",
            "9  D1  4.00  4.75  5.50     0\n"
          ]
        }
      ],
      "source": [
        "def ket_qua_xet_tuyen(row):\n",
        "    khoi_thi = row['KT']\n",
        "    dh1 = row['DH1']\n",
        "    dh2 = row['DH2']\n",
        "    dh3 = row['DH3']\n",
        "\n",
        "    if khoi_thi in ['A', 'A1']:\n",
        "        if (dh1 * 2 + dh2 + dh3) / 4 >= 5.0:\n",
        "            return 1\n",
        "        else:\n",
        "            return 0\n",
        "    elif khoi_thi == 'B':\n",
        "        if (dh1 + dh2 * 2 + dh3) / 4 >= 5.0:\n",
        "            return 1\n",
        "        else:\n",
        "            return 0\n",
        "    else:\n",
        "        if (dh1 + dh2 + dh3) / 3 >= 5.0:\n",
        "            return 1\n",
        "        else:\n",
        "            return 0\n",
        "\n",
        "df['KQXT'] = df.apply(ket_qua_xet_tuyen, axis=1)\n",
        "\n",
        "print(\"\\nĐã tạo biến KQXT (kết quả xét tuyển):\")\n",
        "print(df[['KT', 'DH1', 'DH2', 'DH3', 'KQXT']].head(10))"
      ]
    },
    {
      "cell_type": "markdown",
      "metadata": {
        "id": "O_wPfO4DHKc_"
      },
      "source": [
        "11. Lưu trữ dữ liệu xuống ổ đĩa thành file processed_dulieuxettuyendaihoc.csv"
      ]
    },
    {
      "cell_type": "code",
      "execution_count": 13,
      "metadata": {
        "colab": {
          "base_uri": "https://localhost:8080/"
        },
        "id": "L0sMIfXiHSO7",
        "outputId": "93a8878a-170f-4a77-e305-cca96b6ad34a"
      },
      "outputs": [
        {
          "name": "stdout",
          "output_type": "stream",
          "text": [
            "\n",
            "Đã lưu trữ dữ liệu đã xử lý vào file processed_dulieuxettuyendaihoc.csv\n"
          ]
        }
      ],
      "source": [
        "df.to_csv('/content/processed_dulieuxettuyendaihoc.csv', index=False)\n",
        "print(\"\\nĐã lưu trữ dữ liệu đã xử lý vào file processed_dulieuxettuyendaihoc.csv\")"
      ]
    }
  ],
  "metadata": {
    "colab": {
      "provenance": []
    },
    "kernelspec": {
      "display_name": "Python 3",
      "name": "python3"
    },
    "language_info": {
      "name": "python",
      "version": "3.9.10"
    }
  },
  "nbformat": 4,
  "nbformat_minor": 0
}
